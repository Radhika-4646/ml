{
 "cells": [
  {
   "cell_type": "code",
   "execution_count": 2,
   "metadata": {},
   "outputs": [
    {
     "name": "stdout",
     "output_type": "stream",
     "text": [
      "Final Specific Hypothesis: ['Sunny', 'Warm', '?', 'Strong', '?', '?']\n",
      "Final General Hypothesis: [['?', '?', '?', 'Strong', '?', '?']]\n"
     ]
    }
   ],
   "source": [
    "data = [\n",
    "    [\"Sunny\", \"Warm\", \"Normal\", \"Strong\", \"Warm\", \"Same\", \"yes\"],\n",
    "    [\"Sunny\", \"Warm\", \"High\", \"Strong\", \"Warm\", \"Same\", \"yes\"],\n",
    "    [\"Rainy\", \"Cold\", \"High\", \"Strong\", \"Warm\", \"Change\", \"no\"],\n",
    "    [\"Sunny\", \"Warm\", \"High\", \"Strong\", \"Cool\", \"Change\", \"yes\"]\n",
    "]\n",
    "def candidate_elimination(data):\n",
    "    S = [\"Ø\"] * (len(data[0]) - 1)  \n",
    "    G = [[\"?\"] * (len(data[0]) - 1)] \n",
    "\n",
    "    for row in data:\n",
    "        attributes, label = row[:-1], row[-1]  \n",
    "\n",
    "        if label == \"yes\":  \n",
    "            for i in range(len(S)):\n",
    "                if S[i] == \"Ø\":  \n",
    "                    S[i] = attributes[i]\n",
    "                elif S[i] != attributes[i]:\n",
    "                    S[i] = \"?\"\n",
    "\n",
    "            G = [g for g in G if all(g[i] == \"?\" or g[i] == S[i] for i in range(len(S)))]\n",
    "\n",
    "        elif label == \"no\":  \n",
    "            new_G = []\n",
    "            for g in G:\n",
    "                for i in range(len(g)):\n",
    "                    if g[i] == \"?\":\n",
    "                        new_hypothesis = g[:]\n",
    "                        new_hypothesis[i] = attributes[i]\n",
    "                        new_G.append(new_hypothesis)\n",
    "            G = new_G\n",
    "\n",
    "    return S, G\n",
    "\n",
    "\n",
    "\n",
    "S_final, G_final = candidate_elimination(data)\n",
    "\n",
    "\n",
    "print(\"Final Specific Hypothesis:\", S_final)\n",
    "print(\"Final General Hypothesis:\", G_final)\n"
   ]
  },
  {
   "cell_type": "code",
   "execution_count": null,
   "metadata": {},
   "outputs": [],
   "source": []
  }
 ],
 "metadata": {
  "kernelspec": {
   "display_name": "Python 3",
   "language": "python",
   "name": "python3"
  },
  "language_info": {
   "codemirror_mode": {
    "name": "ipython",
    "version": 3
   },
   "file_extension": ".py",
   "mimetype": "text/x-python",
   "name": "python",
   "nbconvert_exporter": "python",
   "pygments_lexer": "ipython3",
   "version": "3.6.5"
  }
 },
 "nbformat": 4,
 "nbformat_minor": 2
}
