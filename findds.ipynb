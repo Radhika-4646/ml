{
 "cells": [
  {
   "cell_type": "code",
   "execution_count": 2,
   "metadata": {},
   "outputs": [
    {
     "name": "stdout",
     "output_type": "stream",
     "text": [
      "Find hypothesis: ['Sunny', 'Warm', '?', 'Strong', '?', '?']\n"
     ]
    }
   ],
   "source": [
    "training_examples = [\n",
    "    [\"Sunny\", \"Warm\", \"Normal\", \"Strong\", \"Warm\", \"Same\", \"yes\"],\n",
    "    [\"Sunny\", \"Warm\", \"High\", \"Strong\", \"Warm\", \"Same\", \"yes\"],\n",
    "    [\"Rainy\", \"Cold\", \"High\", \"Strong\", \"Warm\", \"Change\", \"no\"],\n",
    "    [\"Sunny\", \"Warm\", \"High\", \"Strong\", \"Cool\", \"Change\", \"yes\"]\n",
    "]\n",
    "def find_s_algo(training_data):\n",
    "    hypothesis=None\n",
    "    for example in training_data:\n",
    "        attribute,label=example[:-1],example[-1]\n",
    "        if label==\"yes\":\n",
    "            if hypothesis==None:\n",
    "                hypothesis=attribute\n",
    "            else:\n",
    "                hypothesis=[\n",
    "                    h if h==a else \"?\" for h,a in zip(hypothesis,attribute)\n",
    "                ]\n",
    "    return hypothesis\n",
    "hypothesis=find_s_algo(training_examples)\n",
    "print(\"Find hypothesis:\",hypothesis)\n"
   ]
  },
  {
   "cell_type": "code",
   "execution_count": null,
   "metadata": {},
   "outputs": [],
   "source": []
  }
 ],
 "metadata": {
  "kernelspec": {
   "display_name": "Python 3",
   "language": "python",
   "name": "python3"
  },
  "language_info": {
   "codemirror_mode": {
    "name": "ipython",
    "version": 3
   },
   "file_extension": ".py",
   "mimetype": "text/x-python",
   "name": "python",
   "nbconvert_exporter": "python",
   "pygments_lexer": "ipython3",
   "version": "3.6.5"
  }
 },
 "nbformat": 4,
 "nbformat_minor": 2
}
